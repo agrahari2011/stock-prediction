{
 "cells": [
  {
   "cell_type": "markdown",
   "metadata": {},
   "source": []
  },
  {
   "cell_type": "code",
   "execution_count": 192,
   "metadata": {},
   "outputs": [],
   "source": [
    "import numpy as np\n",
    "import pandas as pd\n",
    "import numpy as np\n",
    "import matplotlib.pyplot as plt\n",
    "import seaborn as sns\n",
    "from pandas_datareader.data import DataReader\n",
    "import yfinance as yf\n",
    "from pandas_datareader import data as pdr\n",
    "yf.pdr_override()\n",
    "from datetime import datetime\n",
    "import tensorflow as tf\n",
    "import keras\n",
    "from tensorflow.keras import Sequential\n",
    "from tensorflow.keras.layers import  Dense\n",
    "from tensorflow.keras.layers import LSTM,Dropout\n",
    "from sklearn.preprocessing import MinMaxScaler\n",
    "\n",
    "\n",
    "\n",
    "\n"
   ]
  },
  {
   "cell_type": "code",
   "execution_count": 193,
   "metadata": {},
   "outputs": [
    {
     "name": "stdout",
     "output_type": "stream",
     "text": [
      "[*********************100%%**********************]  1 of 1 completed\n"
     ]
    }
   ],
   "source": [
    "df = pdr.get_data_yahoo(\"AAPL\", start=\"2017-01-11\", end=\"2024-01-07\")"
   ]
  },
  {
   "cell_type": "code",
   "execution_count": 194,
   "metadata": {},
   "outputs": [
    {
     "data": {
      "text/html": [
       "<div>\n",
       "<style scoped>\n",
       "    .dataframe tbody tr th:only-of-type {\n",
       "        vertical-align: middle;\n",
       "    }\n",
       "\n",
       "    .dataframe tbody tr th {\n",
       "        vertical-align: top;\n",
       "    }\n",
       "\n",
       "    .dataframe thead th {\n",
       "        text-align: right;\n",
       "    }\n",
       "</style>\n",
       "<table border=\"1\" class=\"dataframe\">\n",
       "  <thead>\n",
       "    <tr style=\"text-align: right;\">\n",
       "      <th></th>\n",
       "      <th>Open</th>\n",
       "      <th>High</th>\n",
       "      <th>Low</th>\n",
       "      <th>Close</th>\n",
       "      <th>Adj Close</th>\n",
       "      <th>Volume</th>\n",
       "    </tr>\n",
       "    <tr>\n",
       "      <th>Date</th>\n",
       "      <th></th>\n",
       "      <th></th>\n",
       "      <th></th>\n",
       "      <th></th>\n",
       "      <th></th>\n",
       "      <th></th>\n",
       "    </tr>\n",
       "  </thead>\n",
       "  <tbody>\n",
       "    <tr>\n",
       "      <th>2017-01-11</th>\n",
       "      <td>29.684999</td>\n",
       "      <td>29.982500</td>\n",
       "      <td>29.650000</td>\n",
       "      <td>29.937500</td>\n",
       "      <td>27.861288</td>\n",
       "      <td>110354400</td>\n",
       "    </tr>\n",
       "    <tr>\n",
       "      <th>2017-01-12</th>\n",
       "      <td>29.725000</td>\n",
       "      <td>29.825001</td>\n",
       "      <td>29.552500</td>\n",
       "      <td>29.812500</td>\n",
       "      <td>27.744961</td>\n",
       "      <td>108344800</td>\n",
       "    </tr>\n",
       "    <tr>\n",
       "      <th>2017-01-13</th>\n",
       "      <td>29.777500</td>\n",
       "      <td>29.905001</td>\n",
       "      <td>29.702499</td>\n",
       "      <td>29.760000</td>\n",
       "      <td>27.696100</td>\n",
       "      <td>104447600</td>\n",
       "    </tr>\n",
       "    <tr>\n",
       "      <th>2017-01-17</th>\n",
       "      <td>29.584999</td>\n",
       "      <td>30.059999</td>\n",
       "      <td>29.555000</td>\n",
       "      <td>30.000000</td>\n",
       "      <td>27.919453</td>\n",
       "      <td>137759200</td>\n",
       "    </tr>\n",
       "    <tr>\n",
       "      <th>2017-01-18</th>\n",
       "      <td>30.000000</td>\n",
       "      <td>30.125000</td>\n",
       "      <td>29.927500</td>\n",
       "      <td>29.997499</td>\n",
       "      <td>27.917126</td>\n",
       "      <td>94852000</td>\n",
       "    </tr>\n",
       "    <tr>\n",
       "      <th>...</th>\n",
       "      <td>...</td>\n",
       "      <td>...</td>\n",
       "      <td>...</td>\n",
       "      <td>...</td>\n",
       "      <td>...</td>\n",
       "      <td>...</td>\n",
       "    </tr>\n",
       "    <tr>\n",
       "      <th>2023-12-29</th>\n",
       "      <td>193.899994</td>\n",
       "      <td>194.399994</td>\n",
       "      <td>191.729996</td>\n",
       "      <td>192.529999</td>\n",
       "      <td>192.529999</td>\n",
       "      <td>42628800</td>\n",
       "    </tr>\n",
       "    <tr>\n",
       "      <th>2024-01-02</th>\n",
       "      <td>187.149994</td>\n",
       "      <td>188.440002</td>\n",
       "      <td>183.889999</td>\n",
       "      <td>185.639999</td>\n",
       "      <td>185.639999</td>\n",
       "      <td>82488700</td>\n",
       "    </tr>\n",
       "    <tr>\n",
       "      <th>2024-01-03</th>\n",
       "      <td>184.220001</td>\n",
       "      <td>185.880005</td>\n",
       "      <td>183.429993</td>\n",
       "      <td>184.250000</td>\n",
       "      <td>184.250000</td>\n",
       "      <td>58414500</td>\n",
       "    </tr>\n",
       "    <tr>\n",
       "      <th>2024-01-04</th>\n",
       "      <td>182.149994</td>\n",
       "      <td>183.089996</td>\n",
       "      <td>180.880005</td>\n",
       "      <td>181.910004</td>\n",
       "      <td>181.910004</td>\n",
       "      <td>71983600</td>\n",
       "    </tr>\n",
       "    <tr>\n",
       "      <th>2024-01-05</th>\n",
       "      <td>181.990005</td>\n",
       "      <td>182.759995</td>\n",
       "      <td>180.169998</td>\n",
       "      <td>181.179993</td>\n",
       "      <td>181.179993</td>\n",
       "      <td>62303300</td>\n",
       "    </tr>\n",
       "  </tbody>\n",
       "</table>\n",
       "<p>1758 rows × 6 columns</p>\n",
       "</div>"
      ],
      "text/plain": [
       "                  Open        High         Low       Close   Adj Close  \\\n",
       "Date                                                                     \n",
       "2017-01-11   29.684999   29.982500   29.650000   29.937500   27.861288   \n",
       "2017-01-12   29.725000   29.825001   29.552500   29.812500   27.744961   \n",
       "2017-01-13   29.777500   29.905001   29.702499   29.760000   27.696100   \n",
       "2017-01-17   29.584999   30.059999   29.555000   30.000000   27.919453   \n",
       "2017-01-18   30.000000   30.125000   29.927500   29.997499   27.917126   \n",
       "...                ...         ...         ...         ...         ...   \n",
       "2023-12-29  193.899994  194.399994  191.729996  192.529999  192.529999   \n",
       "2024-01-02  187.149994  188.440002  183.889999  185.639999  185.639999   \n",
       "2024-01-03  184.220001  185.880005  183.429993  184.250000  184.250000   \n",
       "2024-01-04  182.149994  183.089996  180.880005  181.910004  181.910004   \n",
       "2024-01-05  181.990005  182.759995  180.169998  181.179993  181.179993   \n",
       "\n",
       "               Volume  \n",
       "Date                   \n",
       "2017-01-11  110354400  \n",
       "2017-01-12  108344800  \n",
       "2017-01-13  104447600  \n",
       "2017-01-17  137759200  \n",
       "2017-01-18   94852000  \n",
       "...               ...  \n",
       "2023-12-29   42628800  \n",
       "2024-01-02   82488700  \n",
       "2024-01-03   58414500  \n",
       "2024-01-04   71983600  \n",
       "2024-01-05   62303300  \n",
       "\n",
       "[1758 rows x 6 columns]"
      ]
     },
     "execution_count": 194,
     "metadata": {},
     "output_type": "execute_result"
    }
   ],
   "source": [
    "\n",
    "df"
   ]
  },
  {
   "cell_type": "code",
   "execution_count": 195,
   "metadata": {},
   "outputs": [
    {
     "data": {
      "text/plain": [
       "[<matplotlib.lines.Line2D at 0x21c75937910>]"
      ]
     },
     "execution_count": 195,
     "metadata": {},
     "output_type": "execute_result"
    },
    {
     "data": {
      "image/png": "[encoded data removed]",
      "text/plain": [
       "<Figure size 640x480 with 1 Axes>"
      ]
     },
     "metadata": {},
     "output_type": "display_data"
    }
   ],
   "source": [
    "plt.plot(df[\"Close\"])"
   ]
  },
  {
   "cell_type": "code",
   "execution_count": 196,
   "metadata": {},
   "outputs": [],
   "source": [
    "df1=df[\"Close\"]"
   ]
  },
  {
   "cell_type": "code",
   "execution_count": 197,
   "metadata": {},
   "outputs": [],
   "source": [
    "df2=df1.reset_index()\n"
   ]
  },
  {
   "cell_type": "code",
   "execution_count": 198,
   "metadata": {},
   "outputs": [
    {
     "data": {
      "text/plain": [
       "(1758, 2)"
      ]
     },
     "execution_count": 198,
     "metadata": {},
     "output_type": "execute_result"
    }
   ],
   "source": [
    "df2.shape"
   ]
  },
  {
   "cell_type": "code",
   "execution_count": 199,
   "metadata": {},
   "outputs": [],
   "source": [
    "df3=df2[\"Close\"]"
   ]
  },
  {
   "cell_type": "code",
   "execution_count": 200,
   "metadata": {},
   "outputs": [
    {
     "data": {
      "text/plain": [
       "(1758,)"
      ]
     },
     "execution_count": 200,
     "metadata": {},
     "output_type": "execute_result"
    }
   ],
   "source": [
    "df3.shape"
   ]
  },
  {
   "cell_type": "code",
   "execution_count": 201,
   "metadata": {},
   "outputs": [],
   "source": [
    "from sklearn.preprocessing import MinMaxScaler\n",
    "scaler=MinMaxScaler(feature_range=(0,1))\n",
    "df3=scaler.fit_transform(np.array(df3).reshape(-1, 1))"
   ]
  },
  {
   "cell_type": "code",
   "execution_count": 202,
   "metadata": {},
   "outputs": [
    {
     "data": {
      "text/plain": [
       "(1758, 1)"
      ]
     },
     "execution_count": 202,
     "metadata": {},
     "output_type": "execute_result"
    }
   ],
   "source": [
    "df3.shape"
   ]
  },
  {
   "cell_type": "code",
   "execution_count": 203,
   "metadata": {},
   "outputs": [],
   "source": [
    "training_size=int(len(df3)*0.80)\n",
    "test_size=len(df3)-training_size\n",
    "train_data,test_data=df3[0:training_size,:],df3[training_size:len(df3),:1]\n"
   ]
  },
  {
   "cell_type": "code",
   "execution_count": 204,
   "metadata": {},
   "outputs": [
    {
     "data": {
      "text/plain": [
       "(1406, 1)"
      ]
     },
     "execution_count": 204,
     "metadata": {},
     "output_type": "execute_result"
    }
   ],
   "source": [
    "train_data.shape"
   ]
  },
  {
   "cell_type": "code",
   "execution_count": 205,
   "metadata": {},
   "outputs": [
    {
     "data": {
      "text/plain": [
       "(352, 1)"
      ]
     },
     "execution_count": 205,
     "metadata": {},
     "output_type": "execute_result"
    }
   ],
   "source": [
    "test_data.shape"
   ]
  },
  {
   "cell_type": "code",
   "execution_count": 206,
   "metadata": {},
   "outputs": [],
   "source": [
    "import numpy as np"
   ]
  },
  {
   "cell_type": "code",
   "execution_count": 207,
   "metadata": {},
   "outputs": [],
   "source": [
    "def prepare_data(dataset,time_stamp):\n",
    "    dataX=[]\n",
    "    dataY=[]\n",
    "    for i in range(len(dataset)-time_stamp-1):\n",
    "        a=dataset[i:(i+time_stamp),0]\n",
    "        dataX.append(a)\n",
    "        dataY.append(dataset[i+time_stamp,0])\n",
    "    return np.array(dataX),np.array(dataY)"
   ]
  },
  {
   "cell_type": "code",
   "execution_count": 208,
   "metadata": {},
   "outputs": [],
   "source": [
    "time_stamp=100\n",
    "X_train,y_train=prepare_data(train_data,time_stamp)\n",
    "X_test,y_test=prepare_data(test_data,time_stamp)"
   ]
  },
  {
   "cell_type": "code",
   "execution_count": 209,
   "metadata": {},
   "outputs": [
    {
     "data": {
      "text/plain": [
       "(1305, 100)"
      ]
     },
     "execution_count": 209,
     "metadata": {},
     "output_type": "execute_result"
    }
   ],
   "source": [
    "X_train.shape"
   ]
  },
  {
   "cell_type": "code",
   "execution_count": 210,
   "metadata": {},
   "outputs": [
    {
     "data": {
      "text/plain": [
       "array([[1.05434969e-03, 3.11848952e-04, 0.00000000e+00, ...,\n",
       "        5.06979383e-02, 5.40688981e-02, 5.18116895e-02],\n",
       "       [3.11848952e-04, 0.00000000e+00, 1.42560006e-03, ...,\n",
       "        5.40688981e-02, 5.18116895e-02, 5.25838966e-02],\n",
       "       [0.00000000e+00, 1.42560006e-03, 1.41074688e-03, ...,\n",
       "        5.18116895e-02, 5.25838966e-02, 5.39500952e-02],\n",
       "       ...,\n",
       "       [7.44460920e-01, 7.71190946e-01, 7.77309145e-01, ...,\n",
       "        8.10038636e-01, 8.08137790e-01, 8.05405438e-01],\n",
       "       [7.71190946e-01, 7.77309145e-01, 7.97267569e-01, ...,\n",
       "        8.08137790e-01, 8.05405438e-01, 8.02554170e-01],\n",
       "       [7.77309145e-01, 7.97267569e-01, 8.05583631e-01, ...,\n",
       "        8.05405438e-01, 8.02554170e-01, 8.02851189e-01]])"
      ]
     },
     "execution_count": 210,
     "metadata": {},
     "output_type": "execute_result"
    }
   ],
   "source": [
    "X_train"
   ]
  },
  {
   "cell_type": "code",
   "execution_count": 211,
   "metadata": {},
   "outputs": [
    {
     "data": {
      "text/plain": [
       "(251, 100)"
      ]
     },
     "execution_count": 211,
     "metadata": {},
     "output_type": "execute_result"
    }
   ],
   "source": [
    "X_test.shape"
   ]
  },
  {
   "cell_type": "code",
   "execution_count": 212,
   "metadata": {},
   "outputs": [
    {
     "data": {
      "text/plain": [
       "1305"
      ]
     },
     "execution_count": 212,
     "metadata": {},
     "output_type": "execute_result"
    }
   ],
   "source": [
    "X_train.shape[0]"
   ]
  },
  {
   "cell_type": "code",
   "execution_count": 213,
   "metadata": {},
   "outputs": [],
   "source": [
    "X_train=X_train.reshape(X_train.shape[0] , X_train.shape[1] , 1)\n",
    "X_test=X_test.reshape(X_test.shape[0] , X_test.shape[1] , 1)"
   ]
  },
  {
   "cell_type": "code",
   "execution_count": 214,
   "metadata": {},
   "outputs": [
    {
     "name": "stdout",
     "output_type": "stream",
     "text": [
      "Model: \"sequential_10\"\n",
      "_________________________________________________________________\n",
      " Layer (type)                Output Shape              Param #   \n",
      "=================================================================\n",
      " lstm_21 (LSTM)              (None, 100, 50)           10400     \n",
      "                                                                 \n",
      " lstm_22 (LSTM)              (None, 50)                20200     \n",
      "                                                                 \n",
      " dense_15 (Dense)            (None, 25)                1275      \n",
      "                                                                 \n",
      " dense_16 (Dense)            (None, 1)                 26        \n",
      "                                                                 \n",
      "=================================================================\n",
      "Total params: 31901 (124.61 KB)\n",
      "Trainable params: 31901 (124.61 KB)\n",
      "Non-trainable params: 0 (0.00 Byte)\n",
      "_________________________________________________________________\n"
     ]
    }
   ],
   "source": [
    "model = Sequential()\n",
    "model.add(LSTM(50, return_sequences=True, input_shape = (100,1)))\n",
    "\n",
    "model.add(LSTM(50, return_sequences= False))\n",
    "model.add(Dense(25))\n",
    "model.add(Dense(1))\n",
    "model.compile(loss='mean_squared_error', optimizer='adam', metrics=['mean_absolute_error'])\n",
    "\n",
    "model.summary()"
   ]
  },
  {
   "cell_type": "code",
   "execution_count": 215,
   "metadata": {},
   "outputs": [
    {
     "name": "stdout",
     "output_type": "stream",
     "text": [
      "Epoch 1/25\n",
      "41/41 [==============================] - 3s 39ms/step - loss: 0.0353 - mean_absolute_error: 0.1110 - val_loss: 0.0035 - val_mean_absolute_error: 0.0536\n",
      "Epoch 2/25\n",
      "41/41 [==============================] - 1s 26ms/step - loss: 7.5564e-04 - mean_absolute_error: 0.0201 - val_loss: 9.9781e-04 - val_mean_absolute_error: 0.0271\n",
      "Epoch 3/25\n",
      "41/41 [==============================] - 1s 24ms/step - loss: 6.3215e-04 - mean_absolute_error: 0.0176 - val_loss: 0.0015 - val_mean_absolute_error: 0.0340\n",
      "Epoch 4/25\n",
      "41/41 [==============================] - 1s 26ms/step - loss: 5.8784e-04 - mean_absolute_error: 0.0169 - val_loss: 7.8465e-04 - val_mean_absolute_error: 0.0225\n",
      "Epoch 5/25\n",
      "41/41 [==============================] - 1s 26ms/step - loss: 5.8826e-04 - mean_absolute_error: 0.0168 - val_loss: 9.5164e-04 - val_mean_absolute_error: 0.0264\n",
      "Epoch 6/25\n",
      "41/41 [==============================] - 1s 23ms/step - loss: 5.8058e-04 - mean_absolute_error: 0.0166 - val_loss: 7.5359e-04 - val_mean_absolute_error: 0.0222\n",
      "Epoch 7/25\n",
      "41/41 [==============================] - 1s 23ms/step - loss: 5.4705e-04 - mean_absolute_error: 0.0165 - val_loss: 0.0013 - val_mean_absolute_error: 0.0320\n",
      "Epoch 8/25\n",
      "41/41 [==============================] - 1s 24ms/step - loss: 5.2827e-04 - mean_absolute_error: 0.0156 - val_loss: 0.0012 - val_mean_absolute_error: 0.0300\n",
      "Epoch 9/25\n",
      "41/41 [==============================] - 1s 23ms/step - loss: 5.7339e-04 - mean_absolute_error: 0.0165 - val_loss: 0.0012 - val_mean_absolute_error: 0.0298\n",
      "Epoch 10/25\n",
      "41/41 [==============================] - 1s 23ms/step - loss: 5.2853e-04 - mean_absolute_error: 0.0158 - val_loss: 7.6721e-04 - val_mean_absolute_error: 0.0232\n",
      "Epoch 11/25\n",
      "41/41 [==============================] - 2s 42ms/step - loss: 5.0060e-04 - mean_absolute_error: 0.0155 - val_loss: 0.0013 - val_mean_absolute_error: 0.0309\n",
      "Epoch 12/25\n",
      "41/41 [==============================] - 2s 45ms/step - loss: 5.2222e-04 - mean_absolute_error: 0.0156 - val_loss: 0.0013 - val_mean_absolute_error: 0.0318\n",
      "Epoch 13/25\n",
      "41/41 [==============================] - 2s 44ms/step - loss: 4.8492e-04 - mean_absolute_error: 0.0151 - val_loss: 6.6253e-04 - val_mean_absolute_error: 0.0211\n",
      "Epoch 14/25\n",
      "41/41 [==============================] - 2s 44ms/step - loss: 4.5593e-04 - mean_absolute_error: 0.0146 - val_loss: 0.0011 - val_mean_absolute_error: 0.0282\n",
      "Epoch 15/25\n",
      "41/41 [==============================] - 2s 44ms/step - loss: 4.8057e-04 - mean_absolute_error: 0.0149 - val_loss: 8.5497e-04 - val_mean_absolute_error: 0.0249\n",
      "Epoch 16/25\n",
      "41/41 [==============================] - 2s 45ms/step - loss: 4.6690e-04 - mean_absolute_error: 0.0147 - val_loss: 7.9670e-04 - val_mean_absolute_error: 0.0239\n",
      "Epoch 17/25\n",
      "41/41 [==============================] - 2s 45ms/step - loss: 6.0061e-04 - mean_absolute_error: 0.0169 - val_loss: 9.9027e-04 - val_mean_absolute_error: 0.0270\n",
      "Epoch 18/25\n",
      "41/41 [==============================] - 2s 45ms/step - loss: 4.2578e-04 - mean_absolute_error: 0.0142 - val_loss: 6.0539e-04 - val_mean_absolute_error: 0.0201\n",
      "Epoch 19/25\n",
      "41/41 [==============================] - 2s 46ms/step - loss: 4.3491e-04 - mean_absolute_error: 0.0143 - val_loss: 6.3547e-04 - val_mean_absolute_error: 0.0208\n",
      "Epoch 20/25\n",
      "41/41 [==============================] - 2s 44ms/step - loss: 4.1574e-04 - mean_absolute_error: 0.0141 - val_loss: 5.5697e-04 - val_mean_absolute_error: 0.0180\n",
      "Epoch 21/25\n",
      "41/41 [==============================] - 2s 45ms/step - loss: 4.3879e-04 - mean_absolute_error: 0.0145 - val_loss: 6.8070e-04 - val_mean_absolute_error: 0.0218\n",
      "Epoch 22/25\n",
      "41/41 [==============================] - 2s 45ms/step - loss: 4.0318e-04 - mean_absolute_error: 0.0135 - val_loss: 0.0010 - val_mean_absolute_error: 0.0274\n",
      "Epoch 23/25\n",
      "41/41 [==============================] - 2s 44ms/step - loss: 4.6214e-04 - mean_absolute_error: 0.0149 - val_loss: 0.0018 - val_mean_absolute_error: 0.0375\n",
      "Epoch 24/25\n",
      "41/41 [==============================] - 2s 44ms/step - loss: 4.0154e-04 - mean_absolute_error: 0.0135 - val_loss: 8.7379e-04 - val_mean_absolute_error: 0.0253\n",
      "Epoch 25/25\n",
      "41/41 [==============================] - 2s 46ms/step - loss: 3.6951e-04 - mean_absolute_error: 0.0133 - val_loss: 0.0016 - val_mean_absolute_error: 0.0352\n",
      "8/8 [==============================] - 1s 17ms/step\n"
     ]
    }
   ],
   "source": [
    "model.fit(X_train, y_train, epochs=25,validation_data=(X_test,y_test), verbose=1)\n",
    "test_predicted = model.predict(X_test)\n"
   ]
  },
  {
   "cell_type": "code",
   "execution_count": 216,
   "metadata": {},
   "outputs": [],
   "source": [
    "test_inverse_predicted = scaler.inverse_transform(test_predicted)"
   ]
  },
  {
   "cell_type": "code",
   "execution_count": 217,
   "metadata": {},
   "outputs": [
    {
     "data": {
      "text/plain": [
       "array([[125.782906],\n",
       "       [124.99832 ],\n",
       "       [124.83675 ],\n",
       "       [125.08008 ],\n",
       "       [125.60063 ],\n",
       "       [126.54538 ],\n",
       "       [127.61343 ],\n",
       "       [128.80443 ],\n",
       "       [130.07335 ],\n",
       "       [131.16618 ],\n",
       "       [132.06009 ],\n",
       "       [133.04668 ],\n",
       "       [134.33406 ],\n",
       "       [135.79324 ],\n",
       "       [137.10464 ],\n",
       "       [138.44019 ],\n",
       "       [139.85522 ],\n",
       "       [140.79991 ],\n",
       "       [141.54657 ],\n",
       "       [142.21457 ],\n",
       "       [143.37888 ],\n",
       "       [145.07646 ],\n",
       "       [146.52759 ],\n",
       "       [148.04712 ],\n",
       "       [149.08337 ],\n",
       "       [149.62569 ],\n",
       "       [149.84535 ],\n",
       "       [150.18164 ],\n",
       "       [150.43001 ],\n",
       "       [150.84966 ],\n",
       "       [151.09737 ],\n",
       "       [151.08984 ],\n",
       "       [150.45825 ],\n",
       "       [149.62523 ],\n",
       "       [148.81364 ],\n",
       "       [147.77077 ],\n",
       "       [146.87311 ],\n",
       "       [146.07841 ],\n",
       "       [145.18289 ],\n",
       "       [144.4173  ],\n",
       "       [144.40535 ],\n",
       "       [145.10692 ],\n",
       "       [145.85458 ],\n",
       "       [146.72641 ],\n",
       "       [147.29991 ],\n",
       "       [147.4215  ],\n",
       "       [147.52933 ],\n",
       "       [147.84952 ],\n",
       "       [148.28177 ],\n",
       "       [149.0657  ],\n",
       "       [149.8361  ],\n",
       "       [150.80904 ],\n",
       "       [151.99184 ],\n",
       "       [152.9728  ],\n",
       "       [153.87663 ],\n",
       "       [154.78221 ],\n",
       "       [155.33601 ],\n",
       "       [155.56892 ],\n",
       "       [155.96834 ],\n",
       "       [156.5693  ],\n",
       "       [157.50026 ],\n",
       "       [158.63705 ],\n",
       "       [159.68251 ],\n",
       "       [160.3364  ],\n",
       "       [160.81949 ],\n",
       "       [160.81819 ],\n",
       "       [160.4143  ],\n",
       "       [159.74727 ],\n",
       "       [159.66089 ],\n",
       "       [159.8033  ],\n",
       "       [160.05957 ],\n",
       "       [160.49863 ],\n",
       "       [161.11763 ],\n",
       "       [161.63757 ],\n",
       "       [161.8559  ],\n",
       "       [161.93286 ],\n",
       "       [161.72617 ],\n",
       "       [161.39375 ],\n",
       "       [161.58514 ],\n",
       "       [162.1514  ],\n",
       "       [162.8403  ],\n",
       "       [163.39586 ],\n",
       "       [163.69347 ],\n",
       "       [163.62161 ],\n",
       "       [164.3089  ],\n",
       "       [165.25232 ],\n",
       "       [166.02306 ],\n",
       "       [166.84683 ],\n",
       "       [167.61017 ],\n",
       "       [168.10443 ],\n",
       "       [168.33942 ],\n",
       "       [168.40198 ],\n",
       "       [168.42928 ],\n",
       "       [168.70802 ],\n",
       "       [169.07787 ],\n",
       "       [169.33376 ],\n",
       "       [169.18053 ],\n",
       "       [168.8739  ],\n",
       "       [168.64748 ],\n",
       "       [168.77145 ],\n",
       "       [169.27621 ],\n",
       "       [169.91011 ],\n",
       "       [170.89423 ],\n",
       "       [172.03932 ],\n",
       "       [172.96808 ],\n",
       "       [173.63988 ],\n",
       "       [173.92195 ],\n",
       "       [174.30273 ],\n",
       "       [174.7058  ],\n",
       "       [175.41342 ],\n",
       "       [176.11436 ],\n",
       "       [176.81163 ],\n",
       "       [177.67032 ],\n",
       "       [178.35759 ],\n",
       "       [178.88869 ],\n",
       "       [179.1342  ],\n",
       "       [179.57338 ],\n",
       "       [179.98726 ],\n",
       "       [180.16061 ],\n",
       "       [180.53583 ],\n",
       "       [181.08882 ],\n",
       "       [181.69977 ],\n",
       "       [182.80943 ],\n",
       "       [183.82625 ],\n",
       "       [184.54724 ],\n",
       "       [185.08908 ],\n",
       "       [185.31453 ],\n",
       "       [185.08386 ],\n",
       "       [184.57481 ],\n",
       "       [184.17584 ],\n",
       "       [183.94952 ],\n",
       "       [183.84715 ],\n",
       "       [184.23073 ],\n",
       "       [184.76665 ],\n",
       "       [185.49956 ],\n",
       "       [185.99539 ],\n",
       "       [186.17648 ],\n",
       "       [186.27504 ],\n",
       "       [186.41124 ],\n",
       "       [186.64757 ],\n",
       "       [186.73758 ],\n",
       "       [187.07478 ],\n",
       "       [187.55347 ],\n",
       "       [187.94016 ],\n",
       "       [187.85934 ],\n",
       "       [187.3853  ],\n",
       "       [185.61157 ],\n",
       "       [183.03578 ],\n",
       "       [180.45824 ],\n",
       "       [177.9541  ],\n",
       "       [175.7638  ],\n",
       "       [173.97942 ],\n",
       "       [172.83862 ],\n",
       "       [171.93225 ],\n",
       "       [171.19005 ],\n",
       "       [170.33562 ],\n",
       "       [169.62067 ],\n",
       "       [169.23999 ],\n",
       "       [169.25992 ],\n",
       "       [169.97942 ],\n",
       "       [170.40257 ],\n",
       "       [170.95386 ],\n",
       "       [171.69743 ],\n",
       "       [172.94075 ],\n",
       "       [174.72458 ],\n",
       "       [176.60602 ],\n",
       "       [178.5302  ],\n",
       "       [180.27486 ],\n",
       "       [180.87286 ],\n",
       "       [180.172   ],\n",
       "       [178.95576 ],\n",
       "       [177.71275 ],\n",
       "       [176.1877  ],\n",
       "       [174.44397 ],\n",
       "       [172.97882 ],\n",
       "       [171.72131 ],\n",
       "       [171.09117 ],\n",
       "       [170.98752 ],\n",
       "       [170.74535 ],\n",
       "       [170.31071 ],\n",
       "       [169.94844 ],\n",
       "       [169.8225  ],\n",
       "       [169.33069 ],\n",
       "       [168.55463 ],\n",
       "       [167.76071 ],\n",
       "       [167.11023 ],\n",
       "       [166.92131 ],\n",
       "       [166.82578 ],\n",
       "       [166.96918 ],\n",
       "       [167.37747 ],\n",
       "       [168.19817 ],\n",
       "       [169.32185 ],\n",
       "       [170.4073  ],\n",
       "       [171.53525 ],\n",
       "       [172.66028 ],\n",
       "       [173.41908 ],\n",
       "       [173.89064 ],\n",
       "       [173.95221 ],\n",
       "       [173.62738 ],\n",
       "       [173.08325 ],\n",
       "       [172.15648 ],\n",
       "       [171.15584 ],\n",
       "       [170.2717  ],\n",
       "       [169.25523 ],\n",
       "       [167.78784 ],\n",
       "       [166.44037 ],\n",
       "       [165.54732 ],\n",
       "       [165.04599 ],\n",
       "       [165.2101  ],\n",
       "       [166.14267 ],\n",
       "       [167.2633  ],\n",
       "       [168.70195 ],\n",
       "       [170.45856 ],\n",
       "       [172.30838 ],\n",
       "       [173.93744 ],\n",
       "       [175.75903 ],\n",
       "       [177.23872 ],\n",
       "       [178.6997  ],\n",
       "       [180.01741 ],\n",
       "       [181.29962 ],\n",
       "       [182.38199 ],\n",
       "       [183.43556 ],\n",
       "       [184.21678 ],\n",
       "       [184.83498 ],\n",
       "       [185.10075 ],\n",
       "       [185.11742 ],\n",
       "       [185.05588 ],\n",
       "       [184.80661 ],\n",
       "       [184.55235 ],\n",
       "       [184.46648 ],\n",
       "       [184.23276 ],\n",
       "       [184.45544 ],\n",
       "       [184.71577 ],\n",
       "       [185.21999 ],\n",
       "       [185.95653 ],\n",
       "       [186.40204 ],\n",
       "       [186.85446 ],\n",
       "       [187.64429 ],\n",
       "       [188.50641 ],\n",
       "       [189.23639 ],\n",
       "       [189.60065 ],\n",
       "       [189.86678 ],\n",
       "       [189.76244 ],\n",
       "       [189.46352 ],\n",
       "       [188.949   ],\n",
       "       [188.31026 ],\n",
       "       [187.68822 ],\n",
       "       [187.19392 ],\n",
       "       [186.68703 ],\n",
       "       [185.3811  ],\n",
       "       [183.692   ]], dtype=float32)"
      ]
     },
     "execution_count": 217,
     "metadata": {},
     "output_type": "execute_result"
    }
   ],
   "source": [
    "test_inverse_predicted"
   ]
  },
  {
   "cell_type": "code",
   "execution_count": 218,
   "metadata": {},
   "outputs": [
    {
     "data": {
      "text/plain": [
       "Date\n",
       "2017-01-11     29.937500\n",
       "2017-01-12     29.812500\n",
       "2017-01-13     29.760000\n",
       "2017-01-17     30.000000\n",
       "2017-01-18     29.997499\n",
       "                 ...    \n",
       "2023-12-29    192.529999\n",
       "2024-01-02    185.639999\n",
       "2024-01-03    184.250000\n",
       "2024-01-04    181.910004\n",
       "2024-01-05    181.179993\n",
       "Name: Close, Length: 1758, dtype: float64"
      ]
     },
     "execution_count": 218,
     "metadata": {},
     "output_type": "execute_result"
    }
   ],
   "source": [
    "df1"
   ]
  },
  {
   "cell_type": "code",
   "execution_count": 219,
   "metadata": {},
   "outputs": [
    {
     "data": {
      "text/plain": [
       "Date\n",
       "2023-08-17    174.000000\n",
       "2023-08-18    174.490005\n",
       "2023-08-21    175.839996\n",
       "2023-08-22    177.229996\n",
       "2023-08-23    181.119995\n",
       "                 ...    \n",
       "2023-12-29    192.529999\n",
       "2024-01-02    185.639999\n",
       "2024-01-03    184.250000\n",
       "2024-01-04    181.910004\n",
       "2024-01-05    181.179993\n",
       "Name: Close, Length: 98, dtype: float64"
      ]
     },
     "execution_count": 219,
     "metadata": {},
     "output_type": "execute_result"
    }
   ],
   "source": [
    "df1 .iloc[-98:,]"
   ]
  },
  {
   "cell_type": "code",
   "execution_count": 221,
   "metadata": {},
   "outputs": [
    {
     "data": {
      "text/html": [
       "<div>\n",
       "<style scoped>\n",
       "    .dataframe tbody tr th:only-of-type {\n",
       "        vertical-align: middle;\n",
       "    }\n",
       "\n",
       "    .dataframe tbody tr th {\n",
       "        vertical-align: top;\n",
       "    }\n",
       "\n",
       "    .dataframe thead th {\n",
       "        text-align: right;\n",
       "    }\n",
       "</style>\n",
       "<table border=\"1\" class=\"dataframe\">\n",
       "  <thead>\n",
       "    <tr style=\"text-align: right;\">\n",
       "      <th></th>\n",
       "      <th>Close</th>\n",
       "      <th>Close_predicted</th>\n",
       "    </tr>\n",
       "    <tr>\n",
       "      <th>Date</th>\n",
       "      <th></th>\n",
       "      <th></th>\n",
       "    </tr>\n",
       "  </thead>\n",
       "  <tbody>\n",
       "    <tr>\n",
       "      <th>2023-01-06</th>\n",
       "      <td>129.619995</td>\n",
       "      <td>125.782906</td>\n",
       "    </tr>\n",
       "    <tr>\n",
       "      <th>2023-01-09</th>\n",
       "      <td>130.149994</td>\n",
       "      <td>124.998322</td>\n",
       "    </tr>\n",
       "    <tr>\n",
       "      <th>2023-01-10</th>\n",
       "      <td>130.729996</td>\n",
       "      <td>124.836746</td>\n",
       "    </tr>\n",
       "    <tr>\n",
       "      <th>2023-01-11</th>\n",
       "      <td>133.490005</td>\n",
       "      <td>125.080078</td>\n",
       "    </tr>\n",
       "    <tr>\n",
       "      <th>2023-01-12</th>\n",
       "      <td>133.410004</td>\n",
       "      <td>125.600632</td>\n",
       "    </tr>\n",
       "  </tbody>\n",
       "</table>\n",
       "</div>"
      ],
      "text/plain": [
       "                 Close  Close_predicted\n",
       "Date                                   \n",
       "2023-01-06  129.619995       125.782906\n",
       "2023-01-09  130.149994       124.998322\n",
       "2023-01-10  130.729996       124.836746\n",
       "2023-01-11  133.490005       125.080078\n",
       "2023-01-12  133.410004       125.600632"
      ]
     },
     "execution_count": 221,
     "metadata": {},
     "output_type": "execute_result"
    }
   ],
   "source": [
    "\n",
    "df4 = pd.concat([df1 .iloc[-251:].copy(),pd.DataFrame(test_inverse_predicted,columns=['Close_predicted'],index=df1 .iloc[-251:].index)], axis=1)\n",
    "\n",
    "df4.head()"
   ]
  },
  {
   "cell_type": "code",
   "execution_count": null,
   "metadata": {},
   "outputs": [],
   "source": []
  },
  {
   "cell_type": "code",
   "execution_count": 222,
   "metadata": {},
   "outputs": [
    {
     "data": {
      "text/plain": [
       "<Axes: xlabel='Date'>"
      ]
     },
     "execution_count": 222,
     "metadata": {},
     "output_type": "execute_result"
    },
    {
     "data": {
      "image/png": "[encoded data removed]",
      "text/plain": [
       "<Figure size 1000x600 with 1 Axes>"
      ]
     },
     "metadata": {},
     "output_type": "display_data"
    }
   ],
   "source": [
    "df4[['Close','Close_predicted']].plot(figsize=(10,6))"
   ]
  },
  {
   "cell_type": "code",
   "execution_count": 234,
   "metadata": {},
   "outputs": [
    {
     "name": "stdout",
     "output_type": "stream",
     "text": [
      "Model: \"sequential_13\"\n",
      "_________________________________________________________________\n",
      " Layer (type)                Output Shape              Param #   \n",
      "=================================================================\n",
      " lstm_27 (LSTM)              (None, 100, 20)           1760      \n",
      "                                                                 \n",
      " lstm_28 (LSTM)              (None, 20)                3280      \n",
      "                                                                 \n",
      " dense_19 (Dense)            (None, 1)                 21        \n",
      "                                                                 \n",
      "=================================================================\n",
      "Total params: 5061 (19.77 KB)\n",
      "Trainable params: 5061 (19.77 KB)\n",
      "Non-trainable params: 0 (0.00 Byte)\n",
      "_________________________________________________________________\n"
     ]
    }
   ],
   "source": [
    "model = Sequential()\n",
    "model.add(LSTM(20, return_sequences=True, input_shape = (100,1)))\n",
    "\n",
    "\n",
    "\n",
    "model.add(LSTM(20, return_sequences= False))\n",
    "\n",
    "\n",
    "model.add(Dense(1))\n",
    "model.compile(loss='mean_squared_error', optimizer='adam', metrics=['mean_absolute_error'])\n",
    "\n",
    "model.summary()"
   ]
  },
  {
   "cell_type": "code",
   "execution_count": 235,
   "metadata": {},
   "outputs": [
    {
     "name": "stdout",
     "output_type": "stream",
     "text": [
      "Epoch 1/100\n",
      "41/41 [==============================] - 3s 35ms/step - loss: 0.0577 - mean_absolute_error: 0.1591 - val_loss: 0.0235 - val_mean_absolute_error: 0.1472\n",
      "Epoch 2/100\n",
      "41/41 [==============================] - 1s 24ms/step - loss: 0.0017 - mean_absolute_error: 0.0313 - val_loss: 0.0020 - val_mean_absolute_error: 0.0380\n",
      "Epoch 3/100\n",
      "41/41 [==============================] - 1s 24ms/step - loss: 9.6991e-04 - mean_absolute_error: 0.0230 - val_loss: 0.0023 - val_mean_absolute_error: 0.0399\n",
      "Epoch 4/100\n",
      "41/41 [==============================] - 1s 24ms/step - loss: 9.0055e-04 - mean_absolute_error: 0.0221 - val_loss: 0.0021 - val_mean_absolute_error: 0.0382\n",
      "Epoch 5/100\n",
      "41/41 [==============================] - 1s 23ms/step - loss: 8.6956e-04 - mean_absolute_error: 0.0216 - val_loss: 0.0018 - val_mean_absolute_error: 0.0354\n",
      "Epoch 6/100\n",
      "41/41 [==============================] - 1s 23ms/step - loss: 8.5397e-04 - mean_absolute_error: 0.0213 - val_loss: 0.0018 - val_mean_absolute_error: 0.0354\n",
      "Epoch 7/100\n",
      "41/41 [==============================] - 1s 23ms/step - loss: 8.5855e-04 - mean_absolute_error: 0.0212 - val_loss: 0.0014 - val_mean_absolute_error: 0.0315\n",
      "Epoch 8/100\n",
      "41/41 [==============================] - 1s 23ms/step - loss: 8.5693e-04 - mean_absolute_error: 0.0211 - val_loss: 0.0024 - val_mean_absolute_error: 0.0411\n",
      "Epoch 9/100\n",
      "41/41 [==============================] - 1s 23ms/step - loss: 7.7927e-04 - mean_absolute_error: 0.0201 - val_loss: 0.0021 - val_mean_absolute_error: 0.0387\n",
      "Epoch 10/100\n",
      "41/41 [==============================] - 1s 25ms/step - loss: 7.4357e-04 - mean_absolute_error: 0.0197 - val_loss: 0.0022 - val_mean_absolute_error: 0.0397\n",
      "Epoch 11/100\n",
      "41/41 [==============================] - 1s 23ms/step - loss: 7.3614e-04 - mean_absolute_error: 0.0195 - val_loss: 0.0025 - val_mean_absolute_error: 0.0429\n",
      "Epoch 12/100\n",
      "41/41 [==============================] - 1s 24ms/step - loss: 7.1029e-04 - mean_absolute_error: 0.0190 - val_loss: 0.0012 - val_mean_absolute_error: 0.0298\n",
      "Epoch 13/100\n",
      "41/41 [==============================] - 1s 24ms/step - loss: 6.8061e-04 - mean_absolute_error: 0.0187 - val_loss: 0.0015 - val_mean_absolute_error: 0.0326\n",
      "Epoch 14/100\n",
      "41/41 [==============================] - 1s 24ms/step - loss: 6.7704e-04 - mean_absolute_error: 0.0187 - val_loss: 0.0035 - val_mean_absolute_error: 0.0518\n",
      "Epoch 15/100\n",
      "41/41 [==============================] - 1s 24ms/step - loss: 6.5792e-04 - mean_absolute_error: 0.0182 - val_loss: 0.0022 - val_mean_absolute_error: 0.0403\n",
      "Epoch 16/100\n",
      "41/41 [==============================] - 1s 24ms/step - loss: 6.2607e-04 - mean_absolute_error: 0.0178 - val_loss: 0.0019 - val_mean_absolute_error: 0.0372\n",
      "Epoch 17/100\n",
      "41/41 [==============================] - 1s 24ms/step - loss: 6.3598e-04 - mean_absolute_error: 0.0180 - val_loss: 0.0029 - val_mean_absolute_error: 0.0478\n",
      "Epoch 18/100\n",
      "41/41 [==============================] - 1s 23ms/step - loss: 6.3653e-04 - mean_absolute_error: 0.0177 - val_loss: 9.8206e-04 - val_mean_absolute_error: 0.0265\n",
      "Epoch 19/100\n",
      "41/41 [==============================] - 1s 24ms/step - loss: 6.1760e-04 - mean_absolute_error: 0.0173 - val_loss: 7.3887e-04 - val_mean_absolute_error: 0.0221\n",
      "Epoch 20/100\n",
      "41/41 [==============================] - 1s 24ms/step - loss: 6.1193e-04 - mean_absolute_error: 0.0174 - val_loss: 7.0369e-04 - val_mean_absolute_error: 0.0213\n",
      "Epoch 21/100\n",
      "41/41 [==============================] - 1s 24ms/step - loss: 5.5964e-04 - mean_absolute_error: 0.0167 - val_loss: 0.0013 - val_mean_absolute_error: 0.0305\n",
      "Epoch 22/100\n",
      "41/41 [==============================] - 1s 24ms/step - loss: 5.6569e-04 - mean_absolute_error: 0.0166 - val_loss: 6.7386e-04 - val_mean_absolute_error: 0.0208\n",
      "Epoch 23/100\n",
      "41/41 [==============================] - 1s 24ms/step - loss: 5.7573e-04 - mean_absolute_error: 0.0169 - val_loss: 6.6252e-04 - val_mean_absolute_error: 0.0199\n",
      "Epoch 24/100\n",
      "41/41 [==============================] - 1s 24ms/step - loss: 5.3282e-04 - mean_absolute_error: 0.0162 - val_loss: 0.0016 - val_mean_absolute_error: 0.0350\n",
      "Epoch 25/100\n",
      "41/41 [==============================] - 1s 24ms/step - loss: 5.0785e-04 - mean_absolute_error: 0.0157 - val_loss: 0.0010 - val_mean_absolute_error: 0.0274\n",
      "Epoch 26/100\n",
      "41/41 [==============================] - 1s 25ms/step - loss: 5.0147e-04 - mean_absolute_error: 0.0155 - val_loss: 6.1896e-04 - val_mean_absolute_error: 0.0192\n",
      "Epoch 27/100\n",
      "41/41 [==============================] - 1s 24ms/step - loss: 4.6805e-04 - mean_absolute_error: 0.0152 - val_loss: 7.0964e-04 - val_mean_absolute_error: 0.0219\n",
      "Epoch 28/100\n",
      "41/41 [==============================] - 1s 24ms/step - loss: 4.9644e-04 - mean_absolute_error: 0.0158 - val_loss: 0.0012 - val_mean_absolute_error: 0.0302\n",
      "Epoch 29/100\n",
      "41/41 [==============================] - 1s 24ms/step - loss: 4.7287e-04 - mean_absolute_error: 0.0150 - val_loss: 0.0010 - val_mean_absolute_error: 0.0273\n",
      "Epoch 30/100\n",
      "41/41 [==============================] - 1s 24ms/step - loss: 4.3750e-04 - mean_absolute_error: 0.0145 - val_loss: 5.6902e-04 - val_mean_absolute_error: 0.0189\n",
      "Epoch 31/100\n",
      "41/41 [==============================] - 1s 24ms/step - loss: 4.3604e-04 - mean_absolute_error: 0.0142 - val_loss: 9.6648e-04 - val_mean_absolute_error: 0.0265\n",
      "Epoch 32/100\n",
      "41/41 [==============================] - 1s 23ms/step - loss: 4.2669e-04 - mean_absolute_error: 0.0142 - val_loss: 5.6231e-04 - val_mean_absolute_error: 0.0189\n",
      "Epoch 33/100\n",
      "41/41 [==============================] - 1s 23ms/step - loss: 4.2519e-04 - mean_absolute_error: 0.0142 - val_loss: 0.0014 - val_mean_absolute_error: 0.0320\n",
      "Epoch 34/100\n",
      "41/41 [==============================] - 1s 24ms/step - loss: 4.4938e-04 - mean_absolute_error: 0.0147 - val_loss: 7.3286e-04 - val_mean_absolute_error: 0.0228\n",
      "Epoch 35/100\n",
      "41/41 [==============================] - 1s 23ms/step - loss: 4.1979e-04 - mean_absolute_error: 0.0142 - val_loss: 5.8335e-04 - val_mean_absolute_error: 0.0198\n",
      "Epoch 36/100\n",
      "41/41 [==============================] - 1s 24ms/step - loss: 4.1901e-04 - mean_absolute_error: 0.0141 - val_loss: 8.0954e-04 - val_mean_absolute_error: 0.0218\n",
      "Epoch 37/100\n",
      "41/41 [==============================] - 1s 24ms/step - loss: 4.1719e-04 - mean_absolute_error: 0.0139 - val_loss: 8.7972e-04 - val_mean_absolute_error: 0.0254\n",
      "Epoch 38/100\n",
      "41/41 [==============================] - 1s 24ms/step - loss: 3.8492e-04 - mean_absolute_error: 0.0134 - val_loss: 4.7317e-04 - val_mean_absolute_error: 0.0168\n",
      "Epoch 39/100\n",
      "41/41 [==============================] - 1s 24ms/step - loss: 3.8089e-04 - mean_absolute_error: 0.0135 - val_loss: 0.0012 - val_mean_absolute_error: 0.0297\n",
      "Epoch 40/100\n",
      "41/41 [==============================] - 1s 24ms/step - loss: 3.7735e-04 - mean_absolute_error: 0.0133 - val_loss: 0.0013 - val_mean_absolute_error: 0.0318\n",
      "Epoch 41/100\n",
      "41/41 [==============================] - 1s 24ms/step - loss: 3.9194e-04 - mean_absolute_error: 0.0138 - val_loss: 4.4673e-04 - val_mean_absolute_error: 0.0167\n",
      "Epoch 42/100\n",
      "41/41 [==============================] - 1s 24ms/step - loss: 3.9690e-04 - mean_absolute_error: 0.0137 - val_loss: 5.5709e-04 - val_mean_absolute_error: 0.0197\n",
      "Epoch 43/100\n",
      "41/41 [==============================] - 1s 24ms/step - loss: 3.4603e-04 - mean_absolute_error: 0.0127 - val_loss: 9.0307e-04 - val_mean_absolute_error: 0.0258\n",
      "Epoch 44/100\n",
      "41/41 [==============================] - 1s 24ms/step - loss: 3.5530e-04 - mean_absolute_error: 0.0129 - val_loss: 6.4536e-04 - val_mean_absolute_error: 0.0215\n",
      "Epoch 45/100\n",
      "41/41 [==============================] - 1s 23ms/step - loss: 3.6256e-04 - mean_absolute_error: 0.0132 - val_loss: 5.4060e-04 - val_mean_absolute_error: 0.0194\n",
      "Epoch 46/100\n",
      "41/41 [==============================] - 1s 24ms/step - loss: 3.4428e-04 - mean_absolute_error: 0.0127 - val_loss: 4.2753e-04 - val_mean_absolute_error: 0.0168\n",
      "Epoch 47/100\n",
      "41/41 [==============================] - 1s 23ms/step - loss: 3.4520e-04 - mean_absolute_error: 0.0127 - val_loss: 3.9707e-04 - val_mean_absolute_error: 0.0159\n",
      "Epoch 48/100\n",
      "41/41 [==============================] - 1s 24ms/step - loss: 3.5590e-04 - mean_absolute_error: 0.0130 - val_loss: 4.3650e-04 - val_mean_absolute_error: 0.0172\n",
      "Epoch 49/100\n",
      "41/41 [==============================] - 1s 24ms/step - loss: 3.6044e-04 - mean_absolute_error: 0.0132 - val_loss: 5.3163e-04 - val_mean_absolute_error: 0.0193\n",
      "Epoch 50/100\n",
      "41/41 [==============================] - 1s 24ms/step - loss: 3.2782e-04 - mean_absolute_error: 0.0125 - val_loss: 0.0013 - val_mean_absolute_error: 0.0323\n",
      "Epoch 51/100\n",
      "41/41 [==============================] - 1s 24ms/step - loss: 3.4318e-04 - mean_absolute_error: 0.0127 - val_loss: 4.8110e-04 - val_mean_absolute_error: 0.0164\n",
      "Epoch 52/100\n",
      "41/41 [==============================] - 1s 24ms/step - loss: 3.1353e-04 - mean_absolute_error: 0.0121 - val_loss: 3.6192e-04 - val_mean_absolute_error: 0.0151\n",
      "Epoch 53/100\n",
      "41/41 [==============================] - 1s 24ms/step - loss: 3.2988e-04 - mean_absolute_error: 0.0125 - val_loss: 7.3888e-04 - val_mean_absolute_error: 0.0232\n",
      "Epoch 54/100\n",
      "41/41 [==============================] - 1s 25ms/step - loss: 3.1439e-04 - mean_absolute_error: 0.0122 - val_loss: 3.4995e-04 - val_mean_absolute_error: 0.0146\n",
      "Epoch 55/100\n",
      "41/41 [==============================] - 1s 24ms/step - loss: 3.4948e-04 - mean_absolute_error: 0.0127 - val_loss: 3.8811e-04 - val_mean_absolute_error: 0.0162\n",
      "Epoch 56/100\n",
      "41/41 [==============================] - 1s 24ms/step - loss: 2.9279e-04 - mean_absolute_error: 0.0116 - val_loss: 3.5518e-04 - val_mean_absolute_error: 0.0153\n",
      "Epoch 57/100\n",
      "41/41 [==============================] - 1s 24ms/step - loss: 2.9793e-04 - mean_absolute_error: 0.0117 - val_loss: 4.1848e-04 - val_mean_absolute_error: 0.0170\n",
      "Epoch 58/100\n",
      "41/41 [==============================] - 1s 24ms/step - loss: 3.2418e-04 - mean_absolute_error: 0.0126 - val_loss: 5.1042e-04 - val_mean_absolute_error: 0.0189\n",
      "Epoch 59/100\n",
      "41/41 [==============================] - 1s 24ms/step - loss: 2.8275e-04 - mean_absolute_error: 0.0116 - val_loss: 3.5512e-04 - val_mean_absolute_error: 0.0154\n",
      "Epoch 60/100\n",
      "41/41 [==============================] - 1s 24ms/step - loss: 2.7363e-04 - mean_absolute_error: 0.0114 - val_loss: 3.3262e-04 - val_mean_absolute_error: 0.0148\n",
      "Epoch 61/100\n",
      "41/41 [==============================] - 1s 24ms/step - loss: 2.8101e-04 - mean_absolute_error: 0.0115 - val_loss: 3.6023e-04 - val_mean_absolute_error: 0.0144\n",
      "Epoch 62/100\n",
      "41/41 [==============================] - 1s 24ms/step - loss: 2.9324e-04 - mean_absolute_error: 0.0118 - val_loss: 3.0937e-04 - val_mean_absolute_error: 0.0140\n",
      "Epoch 63/100\n",
      "41/41 [==============================] - 1s 24ms/step - loss: 2.7454e-04 - mean_absolute_error: 0.0114 - val_loss: 3.5466e-04 - val_mean_absolute_error: 0.0155\n",
      "Epoch 64/100\n",
      "41/41 [==============================] - 1s 23ms/step - loss: 2.6355e-04 - mean_absolute_error: 0.0111 - val_loss: 3.0292e-04 - val_mean_absolute_error: 0.0139\n",
      "Epoch 65/100\n",
      "41/41 [==============================] - 1s 23ms/step - loss: 2.6715e-04 - mean_absolute_error: 0.0112 - val_loss: 5.2560e-04 - val_mean_absolute_error: 0.0192\n",
      "Epoch 66/100\n",
      "41/41 [==============================] - 1s 24ms/step - loss: 2.9745e-04 - mean_absolute_error: 0.0122 - val_loss: 3.2383e-04 - val_mean_absolute_error: 0.0138\n",
      "Epoch 67/100\n",
      "41/41 [==============================] - 1s 24ms/step - loss: 3.1639e-04 - mean_absolute_error: 0.0124 - val_loss: 3.1980e-04 - val_mean_absolute_error: 0.0147\n",
      "Epoch 68/100\n",
      "41/41 [==============================] - 1s 24ms/step - loss: 2.5206e-04 - mean_absolute_error: 0.0110 - val_loss: 2.9804e-04 - val_mean_absolute_error: 0.0139\n",
      "Epoch 69/100\n",
      "41/41 [==============================] - 1s 23ms/step - loss: 2.4752e-04 - mean_absolute_error: 0.0109 - val_loss: 4.5449e-04 - val_mean_absolute_error: 0.0178\n",
      "Epoch 70/100\n",
      "41/41 [==============================] - 1s 23ms/step - loss: 2.3697e-04 - mean_absolute_error: 0.0107 - val_loss: 3.5724e-04 - val_mean_absolute_error: 0.0156\n",
      "Epoch 71/100\n",
      "41/41 [==============================] - 1s 24ms/step - loss: 2.4027e-04 - mean_absolute_error: 0.0107 - val_loss: 3.7264e-04 - val_mean_absolute_error: 0.0159\n",
      "Epoch 72/100\n",
      "41/41 [==============================] - 1s 24ms/step - loss: 2.4009e-04 - mean_absolute_error: 0.0107 - val_loss: 4.9807e-04 - val_mean_absolute_error: 0.0187\n",
      "Epoch 73/100\n",
      "41/41 [==============================] - 1s 23ms/step - loss: 2.3036e-04 - mean_absolute_error: 0.0105 - val_loss: 3.2984e-04 - val_mean_absolute_error: 0.0149\n",
      "Epoch 74/100\n",
      "41/41 [==============================] - 1s 23ms/step - loss: 2.2771e-04 - mean_absolute_error: 0.0104 - val_loss: 4.2766e-04 - val_mean_absolute_error: 0.0172\n",
      "Epoch 75/100\n",
      "41/41 [==============================] - 1s 24ms/step - loss: 2.4463e-04 - mean_absolute_error: 0.0108 - val_loss: 2.7645e-04 - val_mean_absolute_error: 0.0128\n",
      "Epoch 76/100\n",
      "41/41 [==============================] - 1s 24ms/step - loss: 2.3361e-04 - mean_absolute_error: 0.0107 - val_loss: 4.1682e-04 - val_mean_absolute_error: 0.0169\n",
      "Epoch 77/100\n",
      "41/41 [==============================] - 1s 24ms/step - loss: 2.2870e-04 - mean_absolute_error: 0.0105 - val_loss: 2.5400e-04 - val_mean_absolute_error: 0.0127\n",
      "Epoch 78/100\n",
      "41/41 [==============================] - 1s 24ms/step - loss: 2.3798e-04 - mean_absolute_error: 0.0107 - val_loss: 2.6329e-04 - val_mean_absolute_error: 0.0125\n",
      "Epoch 79/100\n",
      "41/41 [==============================] - 1s 23ms/step - loss: 2.2286e-04 - mean_absolute_error: 0.0103 - val_loss: 2.4634e-04 - val_mean_absolute_error: 0.0124\n",
      "Epoch 80/100\n",
      "41/41 [==============================] - 1s 24ms/step - loss: 2.0769e-04 - mean_absolute_error: 0.0100 - val_loss: 6.2340e-04 - val_mean_absolute_error: 0.0215\n",
      "Epoch 81/100\n",
      "41/41 [==============================] - 1s 24ms/step - loss: 2.2299e-04 - mean_absolute_error: 0.0104 - val_loss: 5.7590e-04 - val_mean_absolute_error: 0.0206\n",
      "Epoch 82/100\n",
      "41/41 [==============================] - 1s 24ms/step - loss: 2.2022e-04 - mean_absolute_error: 0.0102 - val_loss: 4.1080e-04 - val_mean_absolute_error: 0.0169\n",
      "Epoch 83/100\n",
      "41/41 [==============================] - 1s 23ms/step - loss: 1.9418e-04 - mean_absolute_error: 0.0097 - val_loss: 6.6463e-04 - val_mean_absolute_error: 0.0224\n",
      "Epoch 84/100\n",
      "41/41 [==============================] - 1s 24ms/step - loss: 2.1987e-04 - mean_absolute_error: 0.0104 - val_loss: 2.4362e-04 - val_mean_absolute_error: 0.0120\n",
      "Epoch 85/100\n",
      "41/41 [==============================] - 1s 23ms/step - loss: 2.3330e-04 - mean_absolute_error: 0.0106 - val_loss: 2.2663e-04 - val_mean_absolute_error: 0.0117\n",
      "Epoch 86/100\n",
      "41/41 [==============================] - 1s 23ms/step - loss: 2.1311e-04 - mean_absolute_error: 0.0101 - val_loss: 3.7817e-04 - val_mean_absolute_error: 0.0161\n",
      "Epoch 87/100\n",
      "41/41 [==============================] - 1s 24ms/step - loss: 2.2166e-04 - mean_absolute_error: 0.0101 - val_loss: 2.9148e-04 - val_mean_absolute_error: 0.0137\n",
      "Epoch 88/100\n",
      "41/41 [==============================] - 1s 24ms/step - loss: 2.4293e-04 - mean_absolute_error: 0.0110 - val_loss: 6.5958e-04 - val_mean_absolute_error: 0.0224\n",
      "Epoch 89/100\n",
      "41/41 [==============================] - 1s 24ms/step - loss: 2.2238e-04 - mean_absolute_error: 0.0103 - val_loss: 4.0301e-04 - val_mean_absolute_error: 0.0159\n",
      "Epoch 90/100\n",
      "41/41 [==============================] - 1s 24ms/step - loss: 1.9650e-04 - mean_absolute_error: 0.0095 - val_loss: 2.1889e-04 - val_mean_absolute_error: 0.0116\n",
      "Epoch 91/100\n",
      "41/41 [==============================] - 1s 24ms/step - loss: 1.8816e-04 - mean_absolute_error: 0.0094 - val_loss: 2.8657e-04 - val_mean_absolute_error: 0.0136\n",
      "Epoch 92/100\n",
      "41/41 [==============================] - 1s 24ms/step - loss: 1.8608e-04 - mean_absolute_error: 0.0094 - val_loss: 2.4122e-04 - val_mean_absolute_error: 0.0123\n",
      "Epoch 93/100\n",
      "41/41 [==============================] - 1s 24ms/step - loss: 1.8607e-04 - mean_absolute_error: 0.0094 - val_loss: 9.5459e-04 - val_mean_absolute_error: 0.0281\n",
      "Epoch 94/100\n",
      "41/41 [==============================] - 1s 24ms/step - loss: 1.9606e-04 - mean_absolute_error: 0.0096 - val_loss: 2.6103e-04 - val_mean_absolute_error: 0.0125\n",
      "Epoch 95/100\n",
      "41/41 [==============================] - 1s 24ms/step - loss: 2.1191e-04 - mean_absolute_error: 0.0101 - val_loss: 2.1671e-04 - val_mean_absolute_error: 0.0116\n",
      "Epoch 96/100\n",
      "41/41 [==============================] - 1s 24ms/step - loss: 1.9374e-04 - mean_absolute_error: 0.0096 - val_loss: 3.7495e-04 - val_mean_absolute_error: 0.0162\n",
      "Epoch 97/100\n",
      "41/41 [==============================] - 1s 24ms/step - loss: 2.0190e-04 - mean_absolute_error: 0.0100 - val_loss: 2.0063e-04 - val_mean_absolute_error: 0.0110\n",
      "Epoch 98/100\n",
      "41/41 [==============================] - 1s 24ms/step - loss: 2.1381e-04 - mean_absolute_error: 0.0104 - val_loss: 2.0336e-04 - val_mean_absolute_error: 0.0111\n",
      "Epoch 99/100\n",
      "41/41 [==============================] - 1s 24ms/step - loss: 1.8655e-04 - mean_absolute_error: 0.0094 - val_loss: 4.2336e-04 - val_mean_absolute_error: 0.0174\n",
      "Epoch 100/100\n",
      "41/41 [==============================] - 1s 24ms/step - loss: 1.9151e-04 - mean_absolute_error: 0.0096 - val_loss: 2.3048e-04 - val_mean_absolute_error: 0.0120\n",
      "8/8 [==============================] - 0s 5ms/step\n"
     ]
    }
   ],
   "source": [
    "model.fit(X_train, y_train, epochs=100,validation_data=(X_test,y_test), verbose=1)\n",
    "test_predicted = model.predict(X_test)"
   ]
  },
  {
   "cell_type": "code",
   "execution_count": 236,
   "metadata": {},
   "outputs": [],
   "source": [
    "test_inverse_predicted = scaler.inverse_transform(test_predicted)"
   ]
  },
  {
   "cell_type": "code",
   "execution_count": 237,
   "metadata": {},
   "outputs": [
    {
     "data": {
      "text/html": [
       "<div>\n",
       "<style scoped>\n",
       "    .dataframe tbody tr th:only-of-type {\n",
       "        vertical-align: middle;\n",
       "    }\n",
       "\n",
       "    .dataframe tbody tr th {\n",
       "        vertical-align: top;\n",
       "    }\n",
       "\n",
       "    .dataframe thead th {\n",
       "        text-align: right;\n",
       "    }\n",
       "</style>\n",
       "<table border=\"1\" class=\"dataframe\">\n",
       "  <thead>\n",
       "    <tr style=\"text-align: right;\">\n",
       "      <th></th>\n",
       "      <th>Close</th>\n",
       "      <th>Close_predicted</th>\n",
       "    </tr>\n",
       "    <tr>\n",
       "      <th>Date</th>\n",
       "      <th></th>\n",
       "      <th></th>\n",
       "    </tr>\n",
       "  </thead>\n",
       "  <tbody>\n",
       "    <tr>\n",
       "      <th>2023-01-06</th>\n",
       "      <td>129.619995</td>\n",
       "      <td>126.575706</td>\n",
       "    </tr>\n",
       "    <tr>\n",
       "      <th>2023-01-09</th>\n",
       "      <td>130.149994</td>\n",
       "      <td>125.671791</td>\n",
       "    </tr>\n",
       "    <tr>\n",
       "      <th>2023-01-10</th>\n",
       "      <td>130.729996</td>\n",
       "      <td>127.840637</td>\n",
       "    </tr>\n",
       "    <tr>\n",
       "      <th>2023-01-11</th>\n",
       "      <td>133.490005</td>\n",
       "      <td>129.649323</td>\n",
       "    </tr>\n",
       "    <tr>\n",
       "      <th>2023-01-12</th>\n",
       "      <td>133.410004</td>\n",
       "      <td>130.818665</td>\n",
       "    </tr>\n",
       "  </tbody>\n",
       "</table>\n",
       "</div>"
      ],
      "text/plain": [
       "                 Close  Close_predicted\n",
       "Date                                   \n",
       "2023-01-06  129.619995       126.575706\n",
       "2023-01-09  130.149994       125.671791\n",
       "2023-01-10  130.729996       127.840637\n",
       "2023-01-11  133.490005       129.649323\n",
       "2023-01-12  133.410004       130.818665"
      ]
     },
     "execution_count": 237,
     "metadata": {},
     "output_type": "execute_result"
    }
   ],
   "source": [
    "df5 = pd.concat([df1 .iloc[-251:].copy(),pd.DataFrame(test_inverse_predicted,columns=['Close_predicted'],index=df1 .iloc[-251:].index)], axis=1)\n",
    "\n",
    "df5.head()"
   ]
  },
  {
   "cell_type": "code",
   "execution_count": 238,
   "metadata": {},
   "outputs": [
    {
     "data": {
      "text/plain": [
       "<Axes: xlabel='Date'>"
      ]
     },
     "execution_count": 238,
     "metadata": {},
     "output_type": "execute_result"
    },
    {
     "data": {
      "image/png": "[encoded data removed]",
      "text/plain": [
       "<Figure size 1000x600 with 1 Axes>"
      ]
     },
     "metadata": {},
     "output_type": "display_data"
    }
   ],
   "source": [
    "df5[['Close','Close_predicted']].plot(figsize=(10,6))"
   ]
  },
  {
   "cell_type": "code",
   "execution_count": null,
   "metadata": {},
   "outputs": [],
   "source": []
  },
  {
   "cell_type": "markdown",
   "metadata": {},
   "source": [
    "#### Trading in the stock market is growing rapidly and investors, analysts are eager to find a method and technique to effectively predict future stock market trends. In recent years, many studies have shown that LSTM neural network models are effective in predicting the stock market, and compared with other machine learning algorithms, LSTM neural network models perform very well when applied to longer prediction horizons."
   ]
  },
  {
   "cell_type": "markdown",
   "metadata": {},
   "source": []
  }
 ],
 "metadata": {
  "kernelspec": {
   "display_name": "Python 3",
   "language": "python",
   "name": "python3"
  },
  "language_info": {
   "codemirror_mode": {
    "name": "ipython",
    "version": 3
   },
   "file_extension": ".py",
   "mimetype": "text/x-python",
   "name": "python",
   "nbconvert_exporter": "python",
   "pygments_lexer": "ipython3",
   "version": "3.11.7"
  }
 },
 "nbformat": 4,
 "nbformat_minor": 2
}
